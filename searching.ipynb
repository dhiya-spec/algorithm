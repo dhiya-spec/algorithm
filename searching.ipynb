{
  "nbformat": 4,
  "nbformat_minor": 0,
  "metadata": {
    "colab": {
      "provenance": [],
      "authorship_tag": "ABX9TyMMoOaDBigcDDXTUZkSVW1A",
      "include_colab_link": true
    },
    "kernelspec": {
      "name": "python3",
      "display_name": "Python 3"
    },
    "language_info": {
      "name": "python"
    }
  },
  "cells": [
    {
      "cell_type": "markdown",
      "metadata": {
        "id": "view-in-github",
        "colab_type": "text"
      },
      "source": [
        "<a href=\"https://colab.research.google.com/github/dhiya-spec/algorithm/blob/main/searching.ipynb\" target=\"_parent\"><img src=\"https://colab.research.google.com/assets/colab-badge.svg\" alt=\"Open In Colab\"/></a>"
      ]
    },
    {
      "cell_type": "code",
      "execution_count": 1,
      "metadata": {
        "colab": {
          "base_uri": "https://localhost:8080/"
        },
        "id": "ZNjlBTUJWFzG",
        "outputId": "7a2d8a52-8115-4d8a-c2da-e5a23eaa7486"
      },
      "outputs": [
        {
          "output_type": "stream",
          "name": "stdout",
          "text": [
            "Element found at index: 3\n"
          ]
        }
      ],
      "source": [
        "\n",
        "def linear_search(arr, target):\n",
        "    for index in range(len(arr)):\n",
        "        if arr[index] == target:\n",
        "            return index\n",
        "    return -1\n",
        "\n",
        "# Example\n",
        "arr = [10, 23, 45, 70, 11, 15]\n",
        "target = 70\n",
        "\n",
        "result = linear_search(arr, target)\n",
        "\n",
        "if result != -1:\n",
        "    print(f\"Element found at index: {result}\")\n",
        "else:\n",
        "    print(\"Element not found in the array\")"
      ]
    },
    {
      "cell_type": "code",
      "source": [
        "\n",
        "def binary_search(arr, low, high, x):\n",
        "\n",
        "\n",
        "    if high >= low:\n",
        "\n",
        "        mid = (high + low) // 2\n",
        "\n",
        "\n",
        "        if arr[mid] == x:\n",
        "            return mid\n",
        "\n",
        "\n",
        "        elif arr[mid] > x:\n",
        "            return binary_search(arr, low, mid - 1, x)\n",
        "\n",
        "\n",
        "        else:\n",
        "            return binary_search(arr, mid + 1, high, x)\n",
        "\n",
        "    else:\n",
        "\n",
        "        return -1\n",
        "\n",
        "\n",
        "arr = [ 2, 3, 4, 10, 40 ]\n",
        "x = 10\n",
        "\n",
        "\n",
        "result = binary_search(arr, 0, len(arr)-1, x)\n",
        "\n",
        "if result != -1:\n",
        "    print(\"Element is present at index\", str(result))\n",
        "else:\n",
        "    print(\"Element is not present in array\")"
      ],
      "metadata": {
        "colab": {
          "base_uri": "https://localhost:8080/"
        },
        "id": "R_a5ppgGXOih",
        "outputId": "97c1ff88-4ba1-4aaf-871e-54a6a9e2b43d"
      },
      "execution_count": 2,
      "outputs": [
        {
          "output_type": "stream",
          "name": "stdout",
          "text": [
            "Element is present at index 3\n"
          ]
        }
      ]
    }
  ]
}